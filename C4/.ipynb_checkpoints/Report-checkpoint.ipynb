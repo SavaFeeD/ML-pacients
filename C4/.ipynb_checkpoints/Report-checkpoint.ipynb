{
 "cells": [
  {
   "cell_type": "markdown",
   "id": "2230cf29",
   "metadata": {},
   "source": [
    "## Структура сайта:"
   ]
  },
  {
   "cell_type": "markdown",
   "id": "5e00efd6",
   "metadata": {},
   "source": [
    "#### Навигация"
   ]
  },
  {
   "cell_type": "markdown",
   "id": "9389c713",
   "metadata": {},
   "source": [
    "Главная - переход на главную страницу\n",
    "\n",
    "Добавить пациента - переход на страницу добавления пациента"
   ]
  },
  {
   "cell_type": "markdown",
   "id": "7cd36d56",
   "metadata": {},
   "source": [
    "#### Главный экран"
   ]
  },
  {
   "cell_type": "markdown",
   "id": "97eb3b1f",
   "metadata": {},
   "source": [
    "На главном экране есть список пациентов, при нажатии на которых ты переходишь на страницу с информацией о пациенте"
   ]
  },
  {
   "cell_type": "markdown",
   "id": "f8e33e4f",
   "metadata": {},
   "source": [
    "#### Экран профиля пациента"
   ]
  },
  {
   "cell_type": "markdown",
   "id": "5c3e6ce8",
   "metadata": {},
   "source": [
    "На экране профиля пациента можно посмотреть информацию о пациенте и перейти к подробной статистике"
   ]
  },
  {
   "cell_type": "markdown",
   "id": "e82cd69d",
   "metadata": {},
   "source": [
    "#### Экран показателя пациента"
   ]
  },
  {
   "cell_type": "markdown",
   "id": "eca37903",
   "metadata": {},
   "source": [
    "На странице со статиской пациента можно увидеть его статистику"
   ]
  },
  {
   "cell_type": "markdown",
   "id": "d04bcb27",
   "metadata": {},
   "source": [
    "#### Экран добавления нового пациента"
   ]
  },
  {
   "cell_type": "markdown",
   "id": "e11e9d54",
   "metadata": {},
   "source": [
    "На странице добавления пациента можно добавить пациента"
   ]
  }
 ],
 "metadata": {
  "kernelspec": {
   "display_name": "Python 3",
   "language": "python",
   "name": "python3"
  },
  "language_info": {
   "codemirror_mode": {
    "name": "ipython",
    "version": 3
   },
   "file_extension": ".py",
   "mimetype": "text/x-python",
   "name": "python",
   "nbconvert_exporter": "python",
   "pygments_lexer": "ipython3",
   "version": "3.8.8"
  }
 },
 "nbformat": 4,
 "nbformat_minor": 5
}
